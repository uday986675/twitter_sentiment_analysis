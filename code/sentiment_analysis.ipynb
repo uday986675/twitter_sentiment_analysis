{
  "nbformat": 4,
  "nbformat_minor": 0,
  "metadata": {
    "colab": {
      "provenance": [],
      "gpuType": "T4"
    },
    "kernelspec": {
      "name": "python3",
      "display_name": "Python 3"
    },
    "language_info": {
      "name": "python"
    },
    "accelerator": "GPU"
  },
  "cells": [
    {
      "cell_type": "code",
      "source": [],
      "metadata": {
        "id": "dCfl3Gp6DmzF"
      },
      "execution_count": null,
      "outputs": []
    },
    {
      "cell_type": "code",
      "execution_count": 1,
      "metadata": {
        "id": "5wyW2oj1SpoF",
        "colab": {
          "base_uri": "https://localhost:8080/"
        },
        "outputId": "993d3e50-d079-4f2c-9b63-54a7234767cd"
      },
      "outputs": [
        {
          "output_type": "stream",
          "name": "stdout",
          "text": [
            "Mounted at /content/drive\n"
          ]
        }
      ],
      "source": [
        "from google.colab import drive\n",
        "drive.mount('/content/drive')\n"
      ]
    },
    {
      "cell_type": "code",
      "source": [
        "!cp '/content/drive/MyDrive/twitter_sentiment_analysis.zip' 'my_data'"
      ],
      "metadata": {
        "id": "giXEEvWGLikE"
      },
      "execution_count": 2,
      "outputs": []
    },
    {
      "cell_type": "code",
      "source": [
        "!unzip 'my_data' -d 'my_data2'"
      ],
      "metadata": {
        "colab": {
          "base_uri": "https://localhost:8080/"
        },
        "id": "YL8WanJOMPwf",
        "outputId": "fbd59006-cb48-4de5-a63e-095a6ec5bb83"
      },
      "execution_count": 3,
      "outputs": [
        {
          "output_type": "stream",
          "name": "stdout",
          "text": [
            "Archive:  my_data\n",
            "  inflating: my_data2/twitter_training.csv  \n",
            "  inflating: my_data2/twitter_validation.csv  \n"
          ]
        }
      ]
    },
    {
      "cell_type": "code",
      "source": [
        "import pandas as pd\n",
        "\n",
        "train_data = pd.read_csv('my_data2/twitter_training.csv', header=None)\n",
        "test_data = pd.read_csv('my_data2/twitter_validation.csv', header=None)\n",
        "\n",
        "train_data.columns = ['id', 'entity', 'sentiment', 'tweet']\n",
        "test_data.columns = ['id', 'entity', 'sentiment', 'tweet']"
      ],
      "metadata": {
        "id": "LFqm_OqpMZzT"
      },
      "execution_count": 23,
      "outputs": []
    },
    {
      "cell_type": "code",
      "source": [
        "\n",
        "sentiment_map = {'Positive':2, 'Neutral':1, 'Negative':0}\n",
        "\n",
        "\n",
        "train_data['sentiment'] = train_data['sentiment'].map(sentiment_map)\n",
        "test_data['sentiment'] = test_data['sentiment'].map(sentiment_map)\n",
        "\n",
        "train_data.dropna(subset=['sentiment'], inplace=True)\n",
        "test_data.dropna(subset=['sentiment'], inplace=True)\n"
      ],
      "metadata": {
        "id": "g8diIL1GOQ3j"
      },
      "execution_count": 24,
      "outputs": []
    },
    {
      "cell_type": "code",
      "source": [
        "import re\n",
        "def clean_text(text):\n",
        "  text = re.sub(r'[http\\S+|www\\S+|https\\S+]', '', text)\n",
        "  text = re.sub(r'@\\w+|#\\w+', '', text)\n",
        "  text = re.sub(r'[^a-zA-Z\\s]', '', text)\n",
        "  text = ' '.join(text.split())\n",
        "  text = text.lower()\n",
        "  return text\n"
      ],
      "metadata": {
        "id": "j4laFTFNKt8Y"
      },
      "execution_count": 25,
      "outputs": []
    },
    {
      "cell_type": "code",
      "source": [
        "\n",
        "train_data['tweet'] = train_data['tweet'].astype(str).apply(clean_text)\n",
        "test_data['tweet'] = test_data['tweet'].astype(str).apply(clean_text)\n",
        "\n",
        "\n",
        "# Drop empty tweets (optional but recommended)\n",
        "train_data = train_data[train_data['tweet'].str.strip() != '']\n",
        "test_data = test_data[test_data['tweet'].str.strip() != '']\n",
        "\n",
        "y_train = train_data['sentiment'].astype(int).values\n",
        "y_val = test_data['sentiment'].astype(int).values\n",
        "\n"
      ],
      "metadata": {
        "id": "_q4vjRGfzTrM"
      },
      "execution_count": 29,
      "outputs": []
    },
    {
      "cell_type": "code",
      "source": [
        "from tensorflow.keras.preprocessing.text import Tokenizer\n",
        "from tensorflow.keras.preprocessing.sequence import pad_sequences\n",
        "\n",
        "tokenizer = Tokenizer(num_words = 10000, oov_token='<OOV>')\n",
        "tokenizer.fit_on_texts(train_data['tweet'])\n",
        "\n",
        "X_train = tokenizer.texts_to_sequences(train_data['tweet'])\n",
        "X_val = tokenizer.texts_to_sequences(test_data['tweet'])\n",
        "\n",
        "X_train = pad_sequences(X_train, padding='post', truncating='post', maxlen=50)\n",
        "X_val = pad_sequences(X_val, padding='post', truncating='post', maxlen=50)\n"
      ],
      "metadata": {
        "id": "zlG46nok4Jh8"
      },
      "execution_count": 31,
      "outputs": []
    },
    {
      "cell_type": "code",
      "source": [
        "import numpy as np\n",
        "print(np.unique(y_train))\n",
        "print(np.unique(y_val))"
      ],
      "metadata": {
        "colab": {
          "base_uri": "https://localhost:8080/"
        },
        "id": "xCXl6Oeb8jNB",
        "outputId": "67457d36-64b8-43b1-a3b1-02574bfb9da5"
      },
      "execution_count": 30,
      "outputs": [
        {
          "output_type": "stream",
          "name": "stdout",
          "text": [
            "[]\n",
            "[]\n"
          ]
        }
      ]
    },
    {
      "cell_type": "code",
      "source": [
        "from tensorflow.keras.models import Sequential\n",
        "from tensorflow.keras.layers import Dense, Embedding, Dropout, LSTM\n",
        "\n",
        "model = Sequential([\n",
        "    Embedding(input_dim=1000, output_dim=64, input_length=50),\n",
        "    LSTM(64, return_sequences=False),\n",
        "    Dropout(0.5),\n",
        "    Dense(64, activation='relu'),\n",
        "    Dense(32, activation='relu'),\n",
        "    Dense(3, activation='softmax')\n",
        "])\n",
        "\n",
        "model.compile(optimizer='adam', metrics=['accuracy'], loss='sparse_categorical_crossentropy')\n",
        "\n"
      ],
      "metadata": {
        "colab": {
          "base_uri": "https://localhost:8080/"
        },
        "id": "g5PffuQc6nM2",
        "outputId": "69d35d6d-33ae-433e-b754-f8dc56d92d17"
      },
      "execution_count": null,
      "outputs": [
        {
          "output_type": "stream",
          "name": "stderr",
          "text": [
            "/usr/local/lib/python3.11/dist-packages/keras/src/layers/core/embedding.py:90: UserWarning: Argument `input_length` is deprecated. Just remove it.\n",
            "  warnings.warn(\n"
          ]
        }
      ]
    },
    {
      "cell_type": "code",
      "source": [
        "history = model.fit(X_train, y_train, epochs=5, batch_size=64, validation_data=(X_val, y_val))"
      ],
      "metadata": {
        "colab": {
          "base_uri": "https://localhost:8080/"
        },
        "id": "537lP3Ko7zSM",
        "outputId": "a6e38612-7f9e-4719-a71b-0ee54e40d02e"
      },
      "execution_count": null,
      "outputs": [
        {
          "output_type": "stream",
          "name": "stdout",
          "text": [
            "Epoch 1/5\n",
            "\u001b[1m1157/1157\u001b[0m \u001b[32m━━━━━━━━━━━━━━━━━━━━\u001b[0m\u001b[37m\u001b[0m \u001b[1m15s\u001b[0m 7ms/step - accuracy: 0.3047 - loss: nan - val_accuracy: 0.2663 - val_loss: nan\n",
            "Epoch 2/5\n",
            "\u001b[1m1157/1157\u001b[0m \u001b[32m━━━━━━━━━━━━━━━━━━━━\u001b[0m\u001b[37m\u001b[0m \u001b[1m8s\u001b[0m 7ms/step - accuracy: 0.2984 - loss: nan - val_accuracy: 0.2663 - val_loss: nan\n",
            "Epoch 3/5\n",
            "\u001b[1m1157/1157\u001b[0m \u001b[32m━━━━━━━━━━━━━━━━━━━━\u001b[0m\u001b[37m\u001b[0m \u001b[1m11s\u001b[0m 7ms/step - accuracy: 0.3043 - loss: nan - val_accuracy: 0.2663 - val_loss: nan\n",
            "Epoch 4/5\n",
            "\u001b[1m1157/1157\u001b[0m \u001b[32m━━━━━━━━━━━━━━━━━━━━\u001b[0m\u001b[37m\u001b[0m \u001b[1m10s\u001b[0m 7ms/step - accuracy: 0.3051 - loss: nan - val_accuracy: 0.2663 - val_loss: nan\n",
            "Epoch 5/5\n",
            "\u001b[1m1157/1157\u001b[0m \u001b[32m━━━━━━━━━━━━━━━━━━━━\u001b[0m\u001b[37m\u001b[0m \u001b[1m9s\u001b[0m 6ms/step - accuracy: 0.3062 - loss: nan - val_accuracy: 0.2663 - val_loss: nan\n"
          ]
        }
      ]
    },
    {
      "cell_type": "code",
      "source": [],
      "metadata": {
        "id": "-fGYMiT88RCe"
      },
      "execution_count": null,
      "outputs": []
    }
  ]
}